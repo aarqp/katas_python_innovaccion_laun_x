{
 "cells": [
  {
   "cell_type": "code",
   "execution_count": 17,
   "metadata": {},
   "outputs": [],
   "source": [
    "def rocket_gas(tank_1, tank_2, tank_3):\n",
    "    average = (tank_1 + tank_2 + tank_3) / 3\n",
    "    return f\"\"\"Reporte: \n",
    "    Promedio del gasolina: {average}%\n",
    "    Tanque 1: {tank_1}%\n",
    "    Tanque 2: {tank_2}%\n",
    "    Tanque 3: {tank_3}%\"\"\""
   ]
  },
  {
   "cell_type": "code",
   "execution_count": 8,
   "metadata": {},
   "outputs": [
    {
     "name": "stdout",
     "output_type": "stream",
     "text": [
      "Reporte: \n",
      "    Promedio del gasolina: 50.0%\n",
      "    Tanque 1: 80%\n",
      "    Tanque 2: 50%\n",
      "    Tanque 3: 20%\n"
     ]
    }
   ],
   "source": [
    "    print(rocket_gas(80,50,20))"
   ]
  },
  {
   "cell_type": "code",
   "execution_count": 7,
   "metadata": {},
   "outputs": [],
   "source": [
    "\n",
    "def prom(*tanks):\n",
    "    cantidad = len(tanks)\n",
    "    suma = sum(tanks)\n",
    "    return suma / cantidad\n"
   ]
  },
  {
   "cell_type": "code",
   "execution_count": 6,
   "metadata": {},
   "outputs": [
    {
     "name": "stdout",
     "output_type": "stream",
     "text": [
      "56.0\n"
     ]
    }
   ],
   "source": [
    "print(prom(80,58,30))"
   ]
  },
  {
   "cell_type": "code",
   "execution_count": 5,
   "metadata": {},
   "outputs": [],
   "source": [
    "def rocket_gas(tank_1, tank_2, tank_3):\n",
    "    return f\"\"\"Reporte: \n",
    "    Promedio del gasolina: {prom(tank_1, tank_2, tank_3)}%\n",
    "    Tanque 1: {tank_1}%\n",
    "    Tanque 2: {tank_2}%\n",
    "    Tanque 3: {tank_3}%\"\"\""
   ]
  },
  {
   "cell_type": "code",
   "execution_count": 9,
   "metadata": {},
   "outputs": [
    {
     "name": "stdout",
     "output_type": "stream",
     "text": [
      "Reporte: \n",
      "    Promedio del gasolina: 78.0%\n",
      "    Tanque 1: 88%\n",
      "    Tanque 2: 76%\n",
      "    Tanque 3: 70%\n"
     ]
    }
   ],
   "source": [
    "print(rocket_gas(88, 76, 70))"
   ]
  },
  {
   "cell_type": "code",
   "execution_count": 12,
   "metadata": {},
   "outputs": [],
   "source": [
    "def report(tiempo_prelanza, tiempo_vuelo, destino, tanque_ext, tanque_int):\n",
    "    return f\"\"\"Informe de misión:\n",
    "    Destino de misión: {destino}\n",
    "    Tiempo de vuelo: {tiempo_prelanza + tiempo_vuelo} minutos\n",
    "    Cantidad de gas: {tanque_ext + tanque_int} litros\n",
    "    \"\"\""
   ]
  },
  {
   "cell_type": "code",
   "execution_count": 13,
   "metadata": {},
   "outputs": [
    {
     "name": "stdout",
     "output_type": "stream",
     "text": [
      "Informe de misión:\n",
      "    Destino de misión: Moon\n",
      "    Tiempo de vuelo: 65 minutos\n",
      "    Cantidad de gas: 500000 litros\n",
      "    \n"
     ]
    }
   ],
   "source": [
    "print(report(14, 51, \"Moon\", 200000, 300000))"
   ]
  },
  {
   "cell_type": "code",
   "execution_count": 16,
   "metadata": {},
   "outputs": [
    {
     "name": "stdout",
     "output_type": "stream",
     "text": [
      "\n",
      "    Destino de misión: Moon\n",
      "    Tiempo de vuelo: 76 minutes\n",
      "    Cantidad de gas: 500000 litros\n",
      "    \n"
     ]
    }
   ],
   "source": [
    "def report(destino, *minutes, **reservas):\n",
    "    return f\"\"\"\n",
    "    Destino de misión: {destino}\n",
    "    Tiempo de vuelo: {sum(minutes)} minutes\n",
    "    Cantidad de gas: {sum(reservas.values())} litros\n",
    "    \"\"\"\n",
    "\n",
    "print(report(\"Moon\", 10, 15, 51, int=300000, ext=200000))"
   ]
  },
  {
   "cell_type": "code",
   "execution_count": 43,
   "metadata": {},
   "outputs": [
    {
     "name": "stdout",
     "output_type": "stream",
     "text": [
      "\n",
      "    Destino de misión: Moon\n",
      "    Tiempo de vuelo: 76 minutes\n",
      "    Cantidad de gas: 500000 litros\n",
      "    tanque inter --> 300000 litros\n",
      "    tanque ext --> 200000 litros\n",
      "    \n"
     ]
    }
   ],
   "source": [
    "def report(destino, *minutes, **reservas):\n",
    "    reporte_gas = f\"\"\"\n",
    "    Destino de misión: {destino}\n",
    "    Tiempo de vuelo: {sum(minutes)} minutes\n",
    "    Cantidad de gas: {sum(reservas.values())} litros\n",
    "    \"\"\"\n",
    "    for tanque, litros in reservas.items():\n",
    "        reporte_gas = reporte_gas + f\"tanque {tanque} --> {litros} litros\\n    \"\n",
    "    return reporte_gas    \n",
    "\n",
    "\n",
    "print(report(\"Moon\", 10, 15, 51, inter=300000, ext=200000))"
   ]
  }
 ],
 "metadata": {
  "interpreter": {
   "hash": "7bb28861f4423622cfe6e6f28b412fed732b4f40b1ae92e1eb0bbd5d87b5a6ab"
  },
  "kernelspec": {
   "display_name": "Python 3.10.2 64-bit (windows store)",
   "language": "python",
   "name": "python3"
  },
  "language_info": {
   "codemirror_mode": {
    "name": "ipython",
    "version": 3
   },
   "file_extension": ".py",
   "mimetype": "text/x-python",
   "name": "python",
   "nbconvert_exporter": "python",
   "pygments_lexer": "ipython3",
   "version": "3.10.2"
  },
  "orig_nbformat": 4
 },
 "nbformat": 4,
 "nbformat_minor": 2
}
